{
 "cells": [
  {
   "cell_type": "markdown",
   "metadata": {
    "id": "RtUAVPoyHY42"
   },
   "source": [
    "# \"How's that movie?\" -  Collaborative filtering with FastAI\n",
    "\n",
    "*Build a state-of-the-art movie recommendation system with just 10 lines of code*\n",
    "\n",
    "<img src=\"https://cdn-images-1.medium.com/max/1200/1*UCnwjtYoYoJtWM7DxzRT0A.jpeg\" style=\"width:480px;\"/>\n",
    "\n",
    "Recommender systems are at the core of pretty much every online service we interact with. Social networking sites like Facebook, Twitter and Instagram recommend posts you might like, or people you might know. Video streaming services like YouTube and Netflix recommend videos, movies or TV shows you might like. Online shopping sites like Amazon recommend products you might want to buy. \n",
    "\n",
    "**Collaborative** filtering is perhaps the most common technique used by recommender systems.\n",
    "\n",
    "> *Collaborative filtering is a method of making predictions about the interests of a user by collecting preferences from many users. The underlying assumption is that if a person A has the same opinion as a person B on an issue, A is more likely to have B's opinion on a different issue than that of a randomly chosen person.* - [Wikipedia](https://medium.com/r/?url=https%3A%2F%2Fen.wikipedia.org%2Fwiki%2FCollaborative_filtering)\n",
    "\n",
    "The [librec](https://guoguibing.github.io/librec/index.html) Java library provides over 70 different algorithms for collaborative filtering. In this post however, we'll implement a relatively new technique called *neural collaborative filtering*."
   ]
  },
  {
   "cell_type": "markdown",
   "metadata": {
    "id": "0dPTW5lrHY45"
   },
   "source": [
    "## The MovieLens 100K Dataset\n",
    "\n",
    "The [MovieLens 100K dataset](https://grouplens.org/datasets/movielens/) is a collection of movie ratings by 943 users on 1682 movies. There are 100,000 ratings in total, since not every user has seen and rated every movie. Here are some sample ratings from the dataset:\n",
    "\n",
    "<img src=\"https://cdn-images-1.medium.com/max/800/1*OZLI7a0ueujHzj5NG3oRlQ.png\" style=\"width:360px\" />\n",
    "\n",
    "Every user is given a unique numeric ID (ranging from 1 to 943), and each movie is given a unique numeric ID too (ranging from 1 to 1682). User's ratings for movies are integers ranging from 1 to 5, with 5 being the highest.\n",
    "\n",
    "Our objective here is to build a *model* that can predict how a user would rate a movie they haven't already seen, by looking at the movie ratings of other users with similar tastes."
   ]
  },
  {
   "cell_type": "markdown",
   "metadata": {
    "id": "6uODWWmLHY45"
   },
   "source": [
    "## System Setup\n",
    "\n",
    "If you want to follow along and run the code as you read, you can clone this notebook, install the required dependencies using [conda](https://conda.io), and start Jupyter by running the following commands on the terminal:\n",
    "\n",
    "```\n",
    "pip install jovian --upgrade     # Install the jovian library \n",
    "jovian clone 5bc23520933b4cc187cfe18e5dd7e2ed # Download notebook\n",
    "cd movielens-fastai              # Enter the created directory \n",
    "jovian install                   # Install the dependencies\n",
    "conda activate movielens-fastai  # Activate virtual environment\n",
    "jupyter notebook                 # Start Jupyter\n",
    "```\n",
    "\n",
    "Make sure you have [conda](https://conda.io) installed before running the above commands. You can also click on the **\"Run on Binder\"** button at the top to start a Jupyter notebook server hosted on mybinder.org  instantly."
   ]
  },
  {
   "cell_type": "markdown",
   "metadata": {
    "id": "gQfuvSgmHY46"
   },
   "source": [
    "## Preparing the Data\n",
    "\n",
    "You can download the MovieLens 100K dataset [from this link](http://files.grouplens.org/datasets/movielens/ml-100k). Once downloaded, unzip and extract the data into a directory ml-100k next to the Jupyter notebook. As described in the [README](http://files.grouplens.org/datasets/movielens/ml-100k-README.txt), the file u.data contains the list of ratings.\n",
    "\n",
    "*On Linux and Mac, you can simply run the following cell to download and extract the data:*"
   ]
  },
  {
   "cell_type": "code",
   "execution_count": 1,
   "metadata": {
    "executionInfo": {
     "elapsed": 4754,
     "status": "ok",
     "timestamp": 1677406701169,
     "user": {
      "displayName": "Kiet Le",
      "userId": "17489916847592372293"
     },
     "user_tz": -660
    },
    "id": "1EarlxBdHY46"
   },
   "outputs": [],
   "source": [
    "#restart the kernel after installation\n",
    "!pip install pandas-profiling --quiet"
   ]
  },
  {
   "cell_type": "code",
   "execution_count": 2,
   "metadata": {
    "colab": {
     "base_uri": "https://localhost:8080/"
    },
    "executionInfo": {
     "elapsed": 2023,
     "status": "ok",
     "timestamp": 1677406703188,
     "user": {
      "displayName": "Kiet Le",
      "userId": "17489916847592372293"
     },
     "user_tz": -660
    },
    "id": "dJgOrV1gHY47",
    "outputId": "399a950d-7433-4248-c765-5b9044fac679"
   },
   "outputs": [
    {
     "name": "stdout",
     "output_type": "stream",
     "text": [
      "allbut.pl  u1.base  u2.test  u4.base  u5.test  ub.base\tu.genre  u.occupation\n",
      "mku.sh\t   u1.test  u3.base  u4.test  ua.base  ub.test\tu.info\t u.user\n",
      "README\t   u2.base  u3.test  u5.base  ua.test  u.data\tu.item\n"
     ]
    }
   ],
   "source": [
    "# Download and extract the data (only for Linux and Mac)\n",
    "!rm -rf ml-100k ml-100k.zip\n",
    "!wget -q http://files.grouplens.org/datasets/movielens/ml-100k.zip\n",
    "!unzip -q ml-100k.zip\n",
    "!ls ml-100k"
   ]
  },
  {
   "cell_type": "markdown",
   "metadata": {
    "id": "x6rFK0i2HY48"
   },
   "source": [
    "We begin the importing the required modules from Pandas and FastAI."
   ]
  },
  {
   "cell_type": "code",
   "execution_count": 3,
   "metadata": {
    "colab": {
     "base_uri": "https://localhost:8080/"
    },
    "executionInfo": {
     "elapsed": 8392,
     "status": "ok",
     "timestamp": 1677406715639,
     "user": {
      "displayName": "Kiet Le",
      "userId": "17489916847592372293"
     },
     "user_tz": -660
    },
    "id": "uW9NmHClHY49",
    "outputId": "d8d32d43-2a28-4838-fcf3-8e7e26877113"
   },
   "outputs": [
    {
     "name": "stdout",
     "output_type": "stream",
     "text": [
      "\u001b[?25l     \u001b[90m━━━━━━━━━━━━━━━━━━━━━━━━━━━━━━━━━━━━━━━━\u001b[0m \u001b[32m0.0/210.2 KB\u001b[0m \u001b[31m?\u001b[0m eta \u001b[36m-:--:--\u001b[0m\r",
      "\u001b[2K     \u001b[90m━━━━━━━━━━━━━━━━━━━━━━━━━━━━━━━━━━━━━━━\u001b[0m \u001b[32m210.2/210.2 KB\u001b[0m \u001b[31m9.4 MB/s\u001b[0m eta \u001b[36m0:00:00\u001b[0m\n",
      "\u001b[?25h\u001b[?25l     \u001b[90m━━━━━━━━━━━━━━━━━━━━━━━━━━━━━━━━━━━━━━━━\u001b[0m \u001b[32m0.0/78.6 KB\u001b[0m \u001b[31m?\u001b[0m eta \u001b[36m-:--:--\u001b[0m\r",
      "\u001b[2K     \u001b[90m━━━━━━━━━━━━━━━━━━━━━━━━━━━━━━━━━━━━━━━━\u001b[0m \u001b[32m78.6/78.6 KB\u001b[0m \u001b[31m8.1 MB/s\u001b[0m eta \u001b[36m0:00:00\u001b[0m\n",
      "\u001b[?25h  Preparing metadata (setup.py) ... \u001b[?25l\u001b[?25hdone\n",
      "\u001b[2K     \u001b[90m━━━━━━━━━━━━━━━━━━━━━━━━━━━━━━━━━━━━━━\u001b[0m \u001b[32m355.2/355.2 KB\u001b[0m \u001b[31m33.7 MB/s\u001b[0m eta \u001b[36m0:00:00\u001b[0m\n",
      "\u001b[?25h  Preparing metadata (setup.py) ... \u001b[?25l\u001b[?25hdone\n",
      "  Building wheel for nvidia-ml-py3 (setup.py) ... \u001b[?25l\u001b[?25hdone\n",
      "  Building wheel for typing (setup.py) ... \u001b[?25l\u001b[?25hdone\n"
     ]
    }
   ],
   "source": [
    "!pip install fastai==1.0.50 --quiet"
   ]
  },
  {
   "cell_type": "code",
   "execution_count": 4,
   "metadata": {
    "executionInfo": {
     "elapsed": 4924,
     "status": "ok",
     "timestamp": 1677406720557,
     "user": {
      "displayName": "Kiet Le",
      "userId": "17489916847592372293"
     },
     "user_tz": -660
    },
    "id": "h8LfP8AAHY49"
   },
   "outputs": [],
   "source": [
    "import pandas as pd\n",
    "from fastai.collab import CollabDataBunch, collab_learner"
   ]
  },
  {
   "cell_type": "markdown",
   "metadata": {
    "id": "MUyypsieHY49"
   },
   "source": [
    "We can now read the data from the CSV file `u.data` into a Pandas [data frame](https://pandas.pydata.org/pandas-docs/stable/reference/api/pandas.DataFrame.html), and create a FastAI [data bunch](https://fastai1.fast.ai/basic_data.html#Get-your-data-ready-for-training) which:\n",
    "\n",
    "1. Converts the Pandas data frame into tensors\n",
    "2. It splits the data into a training set and a validation set\n",
    "3. Creates data loaders to access the data in batches\n",
    "4. Checks if a GPU is available, and moves the data to the GPU"
   ]
  },
  {
   "cell_type": "code",
   "execution_count": 11,
   "metadata": {
    "colab": {
     "base_uri": "https://localhost:8080/",
     "height": 206
    },
    "executionInfo": {
     "elapsed": 4,
     "status": "ok",
     "timestamp": 1677406782894,
     "user": {
      "displayName": "Kiet Le",
      "userId": "17489916847592372293"
     },
     "user_tz": -660
    },
    "id": "XaLLORf8HY4-",
    "outputId": "71476f03-c4c0-46bb-a9df-9cf4a4fae477"
   },
   "outputs": [
    {
     "data": {
      "text/html": [
       "\n",
       "  <div id=\"df-95375933-123d-4056-99e6-902e8da8f856\">\n",
       "    <div class=\"colab-df-container\">\n",
       "      <div>\n",
       "<style scoped>\n",
       "    .dataframe tbody tr th:only-of-type {\n",
       "        vertical-align: middle;\n",
       "    }\n",
       "\n",
       "    .dataframe tbody tr th {\n",
       "        vertical-align: top;\n",
       "    }\n",
       "\n",
       "    .dataframe thead th {\n",
       "        text-align: right;\n",
       "    }\n",
       "</style>\n",
       "<table border=\"1\" class=\"dataframe\">\n",
       "  <thead>\n",
       "    <tr style=\"text-align: right;\">\n",
       "      <th></th>\n",
       "      <th>User ID</th>\n",
       "      <th>Movie ID</th>\n",
       "      <th>Rating</th>\n",
       "      <th>Timestamp</th>\n",
       "    </tr>\n",
       "  </thead>\n",
       "  <tbody>\n",
       "    <tr>\n",
       "      <th>51260</th>\n",
       "      <td>698</td>\n",
       "      <td>705</td>\n",
       "      <td>4</td>\n",
       "      <td>886366611</td>\n",
       "    </tr>\n",
       "    <tr>\n",
       "      <th>32269</th>\n",
       "      <td>222</td>\n",
       "      <td>175</td>\n",
       "      <td>3</td>\n",
       "      <td>878181739</td>\n",
       "    </tr>\n",
       "    <tr>\n",
       "      <th>37824</th>\n",
       "      <td>561</td>\n",
       "      <td>645</td>\n",
       "      <td>3</td>\n",
       "      <td>885808767</td>\n",
       "    </tr>\n",
       "    <tr>\n",
       "      <th>18608</th>\n",
       "      <td>453</td>\n",
       "      <td>421</td>\n",
       "      <td>4</td>\n",
       "      <td>888203015</td>\n",
       "    </tr>\n",
       "    <tr>\n",
       "      <th>49817</th>\n",
       "      <td>681</td>\n",
       "      <td>259</td>\n",
       "      <td>2</td>\n",
       "      <td>885409882</td>\n",
       "    </tr>\n",
       "  </tbody>\n",
       "</table>\n",
       "</div>\n",
       "      <button class=\"colab-df-convert\" onclick=\"convertToInteractive('df-95375933-123d-4056-99e6-902e8da8f856')\"\n",
       "              title=\"Convert this dataframe to an interactive table.\"\n",
       "              style=\"display:none;\">\n",
       "        \n",
       "  <svg xmlns=\"http://www.w3.org/2000/svg\" height=\"24px\"viewBox=\"0 0 24 24\"\n",
       "       width=\"24px\">\n",
       "    <path d=\"M0 0h24v24H0V0z\" fill=\"none\"/>\n",
       "    <path d=\"M18.56 5.44l.94 2.06.94-2.06 2.06-.94-2.06-.94-.94-2.06-.94 2.06-2.06.94zm-11 1L8.5 8.5l.94-2.06 2.06-.94-2.06-.94L8.5 2.5l-.94 2.06-2.06.94zm10 10l.94 2.06.94-2.06 2.06-.94-2.06-.94-.94-2.06-.94 2.06-2.06.94z\"/><path d=\"M17.41 7.96l-1.37-1.37c-.4-.4-.92-.59-1.43-.59-.52 0-1.04.2-1.43.59L10.3 9.45l-7.72 7.72c-.78.78-.78 2.05 0 2.83L4 21.41c.39.39.9.59 1.41.59.51 0 1.02-.2 1.41-.59l7.78-7.78 2.81-2.81c.8-.78.8-2.07 0-2.86zM5.41 20L4 18.59l7.72-7.72 1.47 1.35L5.41 20z\"/>\n",
       "  </svg>\n",
       "      </button>\n",
       "      \n",
       "  <style>\n",
       "    .colab-df-container {\n",
       "      display:flex;\n",
       "      flex-wrap:wrap;\n",
       "      gap: 12px;\n",
       "    }\n",
       "\n",
       "    .colab-df-convert {\n",
       "      background-color: #E8F0FE;\n",
       "      border: none;\n",
       "      border-radius: 50%;\n",
       "      cursor: pointer;\n",
       "      display: none;\n",
       "      fill: #1967D2;\n",
       "      height: 32px;\n",
       "      padding: 0 0 0 0;\n",
       "      width: 32px;\n",
       "    }\n",
       "\n",
       "    .colab-df-convert:hover {\n",
       "      background-color: #E2EBFA;\n",
       "      box-shadow: 0px 1px 2px rgba(60, 64, 67, 0.3), 0px 1px 3px 1px rgba(60, 64, 67, 0.15);\n",
       "      fill: #174EA6;\n",
       "    }\n",
       "\n",
       "    [theme=dark] .colab-df-convert {\n",
       "      background-color: #3B4455;\n",
       "      fill: #D2E3FC;\n",
       "    }\n",
       "\n",
       "    [theme=dark] .colab-df-convert:hover {\n",
       "      background-color: #434B5C;\n",
       "      box-shadow: 0px 1px 3px 1px rgba(0, 0, 0, 0.15);\n",
       "      filter: drop-shadow(0px 1px 2px rgba(0, 0, 0, 0.3));\n",
       "      fill: #FFFFFF;\n",
       "    }\n",
       "  </style>\n",
       "\n",
       "      <script>\n",
       "        const buttonEl =\n",
       "          document.querySelector('#df-95375933-123d-4056-99e6-902e8da8f856 button.colab-df-convert');\n",
       "        buttonEl.style.display =\n",
       "          google.colab.kernel.accessAllowed ? 'block' : 'none';\n",
       "\n",
       "        async function convertToInteractive(key) {\n",
       "          const element = document.querySelector('#df-95375933-123d-4056-99e6-902e8da8f856');\n",
       "          const dataTable =\n",
       "            await google.colab.kernel.invokeFunction('convertToInteractive',\n",
       "                                                     [key], {});\n",
       "          if (!dataTable) return;\n",
       "\n",
       "          const docLinkHtml = 'Like what you see? Visit the ' +\n",
       "            '<a target=\"_blank\" href=https://colab.research.google.com/notebooks/data_table.ipynb>data table notebook</a>'\n",
       "            + ' to learn more about interactive tables.';\n",
       "          element.innerHTML = '';\n",
       "          dataTable['output_type'] = 'display_data';\n",
       "          await google.colab.output.renderOutput(dataTable, element);\n",
       "          const docLink = document.createElement('div');\n",
       "          docLink.innerHTML = docLinkHtml;\n",
       "          element.appendChild(docLink);\n",
       "        }\n",
       "      </script>\n",
       "    </div>\n",
       "  </div>\n",
       "  "
      ],
      "text/plain": [
       "       User ID  Movie ID  Rating  Timestamp\n",
       "51260      698       705       4  886366611\n",
       "32269      222       175       3  878181739\n",
       "37824      561       645       3  885808767\n",
       "18608      453       421       4  888203015\n",
       "49817      681       259       2  885409882"
      ]
     },
     "execution_count": 11,
     "metadata": {},
     "output_type": "execute_result"
    }
   ],
   "source": [
    "cols = ['User ID','Movie ID','Rating','Timestamp']\n",
    "ratings_df = pd.read_csv('ml-100k/u.data', \n",
    "                         delimiter='\\t', \n",
    "                         header=None, \n",
    "                         names=cols)\n",
    "ratings_df.sample(5)"
   ]
  },
  {
   "cell_type": "code",
   "execution_count": 12,
   "metadata": {
    "colab": {
     "base_uri": "https://localhost:8080/",
     "height": 206
    },
    "executionInfo": {
     "elapsed": 403,
     "status": "ok",
     "timestamp": 1677406923393,
     "user": {
      "displayName": "Kiet Le",
      "userId": "17489916847592372293"
     },
     "user_tz": -660
    },
    "id": "sdZp8RpeHY4-",
    "outputId": "d64dbd59-bf4d-472d-e2cb-f570ae268e97"
   },
   "outputs": [
    {
     "data": {
      "text/html": [
       "<table border=\"1\" class=\"dataframe\">\n",
       "  <thead>\n",
       "    <tr style=\"text-align: right;\">\n",
       "      <th>User ID</th>\n",
       "      <th>Movie ID</th>\n",
       "      <th>target</th>\n",
       "    </tr>\n",
       "  </thead>\n",
       "  <tbody>\n",
       "    <tr>\n",
       "      <td>596</td>\n",
       "      <td>288</td>\n",
       "      <td>4.0</td>\n",
       "    </tr>\n",
       "    <tr>\n",
       "      <td>493</td>\n",
       "      <td>127</td>\n",
       "      <td>3.0</td>\n",
       "    </tr>\n",
       "    <tr>\n",
       "      <td>5</td>\n",
       "      <td>395</td>\n",
       "      <td>2.0</td>\n",
       "    </tr>\n",
       "    <tr>\n",
       "      <td>571</td>\n",
       "      <td>357</td>\n",
       "      <td>4.0</td>\n",
       "    </tr>\n",
       "    <tr>\n",
       "      <td>64</td>\n",
       "      <td>32</td>\n",
       "      <td>1.0</td>\n",
       "    </tr>\n",
       "  </tbody>\n",
       "</table>"
      ],
      "text/plain": [
       "<IPython.core.display.HTML object>"
      ]
     },
     "metadata": {},
     "output_type": "display_data"
    }
   ],
   "source": [
    "data = CollabDataBunch.from_df(ratings_df, valid_pct=0.1)\n",
    "data.show_batch()"
   ]
  },
  {
   "cell_type": "markdown",
   "metadata": {
    "id": "QztpOdm4HY4-"
   },
   "source": [
    "## Collaborative filtering model\n",
    "\n",
    "The model itself is quite simple. We represent each user `u` and each movie `m` by vector of a predefined length `n`. The rating for the movie `m` by the user `u`, as predicted by the model is simply the dot product of the two vectors.\n",
    "\n",
    "<img src=\"https://cdn-images-1.medium.com/max/800/1*RuAjbXDwvTAv74NtPS-FbQ.png\" style=\"width:360px\"/>\n",
    "\n",
    "Here's a small subset of the users and movies, represented by randomly chosen vectors of length 5, and the predicted ratings:\n",
    "\n",
    "<img src=\"https://cdn-images-1.medium.com/max/1600/1*y9H2v3PsytrCajWSNJJDsA.png\" style=\"width:480px\"/>\n",
    "\n",
    "Since the vectors are chosen randomly, it's quite unlikely that the ratings predicted by the model match the actual ratings. Our objective, while training the model, is to gradually adjust the elements inside the user & movie vectors so that predicted ratings get closer to the actual ratings.\n",
    "\n",
    "We can use the `collab_learner` method from `fastai` to create a neural collaborative filtering model."
   ]
  },
  {
   "cell_type": "code",
   "execution_count": 13,
   "metadata": {
    "executionInfo": {
     "elapsed": 422,
     "status": "ok",
     "timestamp": 1677407068050,
     "user": {
      "displayName": "Kiet Le",
      "userId": "17489916847592372293"
     },
     "user_tz": -660
    },
    "id": "zJ1K5Jh4HY4_"
   },
   "outputs": [],
   "source": [
    "learn = collab_learner(data, n_factors=40, y_range=[0,5.5], wd=.1)"
   ]
  },
  {
   "cell_type": "markdown",
   "metadata": {
    "id": "gYLr2KnlHY4_"
   },
   "source": [
    "The actual model created here contains 2 important enhancements on the simpler version described earlier:\n",
    "\n",
    "First, apart from the vectors for users and movies, it also add bias terms to account for outliers, since some users tend to always rate movies very high or very low, and some movies tend to be universally acclaimed or disliked.\n",
    "\n",
    "<img src=\"https://cdn-images-1.medium.com/max/800/1*vF7oEwpuKfXP8_CYK_KgdQ.png\" style=\"width:360px\" />\n",
    "\n",
    "Second, it applies the Sigmoid activation function to the above output, and scales it so that the result always lies in the given `y_range`, which is 0 to 5.5 in this case.\n",
    "\n",
    "<img src=\"https://cdn-images-1.medium.com/max/800/1*NloTSPs4pCMYDZ8G1kxhoQ.png\" style=\"width:420px\"/>"
   ]
  },
  {
   "cell_type": "markdown",
   "metadata": {
    "id": "fGexie5KHY4_"
   },
   "source": [
    "## Training the model\n",
    "\n",
    "\n",
    "<img src=\"https://www.deepnetts.com/blog/wp-content/uploads/2019/02/SupervisedLearning.png\" width=\"640\">\n",
    "\n",
    "The learner uses the [*mean squared error*](https://en.wikipedia.org/wiki/Mean_squared_error) loss function to evaluate the predictions of the model, and the [Adam optimizer](https://machinelearningmastery.com/adam-optimization-algorithm-for-deep-learning/) to adjust the parameters (vectors and biases) using [gradient descent](https://www.youtube.com/watch?v=sDv4f4s2SB8). Before we train the model, we use the [learning rate finder](https://fastai1.fast.ai/callbacks.lr_finder.html#Learning-Rate-Finder) to select a good learning for the optimizer."
   ]
  },
  {
   "cell_type": "code",
   "execution_count": 14,
   "metadata": {
    "colab": {
     "base_uri": "https://localhost:8080/",
     "height": 375
    },
    "executionInfo": {
     "elapsed": 1524,
     "status": "ok",
     "timestamp": 1677407146026,
     "user": {
      "displayName": "Kiet Le",
      "userId": "17489916847592372293"
     },
     "user_tz": -660
    },
    "id": "183YJvUHHY4_",
    "outputId": "4c013544-b5af-44a1-96b1-f148dbb0960c"
   },
   "outputs": [
    {
     "data": {
      "text/html": [
       "\n",
       "<style>\n",
       "    /* Turns off some styling */\n",
       "    progress {\n",
       "        /* gets rid of default border in Firefox and Opera. */\n",
       "        border: none;\n",
       "        /* Needs to be in here for Safari polyfill so background images work as expected. */\n",
       "        background-size: auto;\n",
       "    }\n",
       "    progress:not([value]), progress:not([value])::-webkit-progress-bar {\n",
       "        background: repeating-linear-gradient(45deg, #7e7e7e, #7e7e7e 10px, #5c5c5c 10px, #5c5c5c 20px);\n",
       "    }\n",
       "    .progress-bar-interrupted, .progress-bar-interrupted::-webkit-progress-bar {\n",
       "        background: #F44336;\n",
       "    }\n",
       "</style>\n"
      ],
      "text/plain": [
       "<IPython.core.display.HTML object>"
      ]
     },
     "metadata": {},
     "output_type": "display_data"
    },
    {
     "data": {
      "text/html": [
       "\n",
       "    <div>\n",
       "      <progress value='0' class='' max='1' style='width:300px; height:20px; vertical-align: middle;'></progress>\n",
       "      0.00% [0/1 00:00&lt;?]\n",
       "    </div>\n",
       "    \n",
       "<table border=\"1\" class=\"dataframe\">\n",
       "  <thead>\n",
       "    <tr style=\"text-align: left;\">\n",
       "      <th>epoch</th>\n",
       "      <th>train_loss</th>\n",
       "      <th>valid_loss</th>\n",
       "      <th>time</th>\n",
       "    </tr>\n",
       "  </thead>\n",
       "  <tbody>\n",
       "  </tbody>\n",
       "</table><p>\n",
       "\n",
       "    <div>\n",
       "      <progress value='82' class='' max='1406' style='width:300px; height:20px; vertical-align: middle;'></progress>\n",
       "      5.83% [82/1406 00:00&lt;00:10 1.8029]\n",
       "    </div>\n",
       "    "
      ],
      "text/plain": [
       "<IPython.core.display.HTML object>"
      ]
     },
     "metadata": {},
     "output_type": "display_data"
    },
    {
     "name": "stdout",
     "output_type": "stream",
     "text": [
      "LR Finder is complete, type {learner_name}.recorder.plot() to see the graph.\n"
     ]
    },
    {
     "data": {
      "image/png": "[encoded data removed]",
      "text/plain": [
       "<Figure size 432x288 with 1 Axes>"
      ]
     },
     "metadata": {
      "needs_background": "light"
     },
     "output_type": "display_data"
    }
   ],
   "source": [
    "learn.lr_find()\n",
    "learn.recorder.plot(skip_end=15)"
   ]
  },
  {
   "cell_type": "markdown",
   "metadata": {
    "id": "BNfGiubRHY4_"
   },
   "source": [
    "Upon inspection of the graph, we can see that the decrease in loss starts to decrease when the learning rate is around `0.01`. We can choose this as our learning rate, and train for 5 epochs, while annealing the learning rate using the [1-cycle policy](https://sgugger.github.io/the-1cycle-policy.html), which leads to faster convergence."
   ]
  },
  {
   "cell_type": "code",
   "execution_count": null,
   "metadata": {
    "colab": {
     "base_uri": "https://localhost:8080/",
     "height": 158
    },
    "id": "VHDaUnWwHY5A",
    "outputId": "acffac68-8b8b-4afa-9484-c66970b33aa0"
   },
   "outputs": [
    {
     "data": {
      "text/html": [
       "\n",
       "<style>\n",
       "    /* Turns off some styling */\n",
       "    progress {\n",
       "        /* gets rid of default border in Firefox and Opera. */\n",
       "        border: none;\n",
       "        /* Needs to be in here for Safari polyfill so background images work as expected. */\n",
       "        background-size: auto;\n",
       "    }\n",
       "    progress:not([value]), progress:not([value])::-webkit-progress-bar {\n",
       "        background: repeating-linear-gradient(45deg, #7e7e7e, #7e7e7e 10px, #5c5c5c 10px, #5c5c5c 20px);\n",
       "    }\n",
       "    .progress-bar-interrupted, .progress-bar-interrupted::-webkit-progress-bar {\n",
       "        background: #F44336;\n",
       "    }\n",
       "</style>\n"
      ],
      "text/plain": [
       "<IPython.core.display.HTML object>"
      ]
     },
     "metadata": {},
     "output_type": "display_data"
    },
    {
     "data": {
      "text/html": [
       "\n",
       "    <div>\n",
       "      <progress value='3' class='' max='5' style='width:300px; height:20px; vertical-align: middle;'></progress>\n",
       "      60.00% [3/5 00:31&lt;00:21]\n",
       "    </div>\n",
       "    \n",
       "<table border=\"1\" class=\"dataframe\">\n",
       "  <thead>\n",
       "    <tr style=\"text-align: left;\">\n",
       "      <th>epoch</th>\n",
       "      <th>train_loss</th>\n",
       "      <th>valid_loss</th>\n",
       "      <th>time</th>\n",
       "    </tr>\n",
       "  </thead>\n",
       "  <tbody>\n",
       "    <tr>\n",
       "      <td>0</td>\n",
       "      <td>0.940098</td>\n",
       "      <td>0.960230</td>\n",
       "      <td>00:10</td>\n",
       "    </tr>\n",
       "    <tr>\n",
       "      <td>1</td>\n",
       "      <td>0.924511</td>\n",
       "      <td>0.908351</td>\n",
       "      <td>00:10</td>\n",
       "    </tr>\n",
       "    <tr>\n",
       "      <td>2</td>\n",
       "      <td>0.795895</td>\n",
       "      <td>0.851983</td>\n",
       "      <td>00:10</td>\n",
       "    </tr>\n",
       "  </tbody>\n",
       "</table><p>\n",
       "\n",
       "    <div>\n",
       "      <progress value='14' class='' max='1406' style='width:300px; height:20px; vertical-align: middle;'></progress>\n",
       "      1.00% [14/1406 00:00&lt;00:16 0.7444]\n",
       "    </div>\n",
       "    "
      ],
      "text/plain": [
       "<IPython.core.display.HTML object>"
      ]
     },
     "metadata": {},
     "output_type": "display_data"
    }
   ],
   "source": [
    "learn.fit_one_cycle(5, 0.01)"
   ]
  },
  {
   "cell_type": "markdown",
   "metadata": {
    "id": "W926p0-qHY5A"
   },
   "source": [
    "In just 30 seconds, the mean squared error has come down to around 0.80, which is quite close to the state of the art. And it only took us 8 lines of code to load the data and train the model!"
   ]
  },
  {
   "cell_type": "markdown",
   "metadata": {
    "id": "XLV6SysUHY5A"
   },
   "source": [
    "## Looking at some predictions\n",
    "\n",
    "While it's great to see the loss go down, let's look at some actual predictions of the model."
   ]
  },
  {
   "cell_type": "code",
   "execution_count": null,
   "metadata": {
    "id": "fznLkWlIHY5A"
   },
   "outputs": [],
   "source": [
    "(users, items), ratings = next(iter(data.valid_dl))\n",
    "preds = learn.model(users, items)\n",
    "print('Real\\tPred\\tDifference')\n",
    "for p in list(zip(ratings, preds))[:16]:\n",
    "    print('{}\\t{:.1f}\\t{:.1f}'.format(p[0],p[1],p[1]-p[0]))"
   ]
  },
  {
   "cell_type": "markdown",
   "metadata": {
    "id": "DjZAcnLwHY5A"
   },
   "source": [
    "Indeed, the predictions are quite close to the actual ratings. We can now use this model to predict how users would rate movies they haven't seen, and recommend movies that have a high predicted rating.\n",
    "\n",
    "<img src=\"https://cdn-images-1.medium.com/max/800/1*YXlBhnk7cQw5cjbW9qBm0A.png\" style=\"max-width:480px\" />"
   ]
  },
  {
   "cell_type": "markdown",
   "metadata": {
    "id": "yRXiPMaNHY5B"
   },
   "source": [
    "## Save and commit\n",
    "\n",
    "As a final step, we can save and commit our work using the `jovian` library."
   ]
  },
  {
   "cell_type": "code",
   "execution_count": null,
   "metadata": {
    "id": "0OWbGMQiHY5B"
   },
   "outputs": [],
   "source": [
    "!pip install jovian --upgrade -q"
   ]
  },
  {
   "cell_type": "code",
   "execution_count": null,
   "metadata": {
    "id": "LBqxDhfaHY5B"
   },
   "outputs": [],
   "source": [
    "import jovian"
   ]
  },
  {
   "cell_type": "code",
   "execution_count": null,
   "metadata": {
    "id": "xXNXJ-IiHY5B"
   },
   "outputs": [],
   "source": [
    "jovian.commit()"
   ]
  },
  {
   "cell_type": "markdown",
   "metadata": {
    "id": "Pk32DRgDHY5B"
   },
   "source": [
    "Jovian uploads the notebook to [jvn.io](https://jvn.io), captures the Python environment and creates a sharable link for the notebook. You can use this link to share your work and let anyone reproduce it easily with the `jovian clone` command. Jovian also includes a powerful commenting interface, so you (and others) can discuss & comment on specific parts of your notebook."
   ]
  },
  {
   "cell_type": "markdown",
   "metadata": {
    "id": "3-sO07R0HY5B"
   },
   "source": [
    "## Further Reading\n",
    "\n",
    "In a future post, we'll dive deeper and see how `DataBunch` and `collab_learner` are actually implemented, using PyTorch. We'll also explore how we can interpret the vectors and biases learned by the model, and see some interesting results.\n",
    "\n",
    "In the meantime, following are some resources if you'd like to dive deeper into the topic:\n",
    "\n",
    "* [Lesson 4](https://course.fast.ai/videos/?lesson=4) of FastAI's \"Practical Deep Learning for Coders\" course\n",
    "\n",
    "* [Paper](https://arxiv.org/abs/1708.05031) introducing neural collaborative filtering\n",
    "\n",
    "* [PyTorch: Zero to GANs](https://medium.com/jovian-io/pytorch-basics-tensors-and-gradients-eb2f6e8a6eee)  - tutorial series covering the basics of PyTorch and neural networks"
   ]
  },
  {
   "cell_type": "markdown",
   "metadata": {
    "id": "oy_W3VUcHY5B"
   },
   "source": [
    "## Revision Questions\n",
    "1.\tWhat is a recommendation system?\n",
    "2.\tWhat is collaborative filtering?\n",
    "3.\tWhat is FastAI?\n",
    "4.\tWhat are the steps involved in building a collaborative model?\n",
    "5.\tExplain the working of a collaborative model with an example.\n",
    "6.\tWhat is <code>DataBunch()</code>?\n",
    "7.\tWhat is <code>collab_learner()</code>?\n",
    "8.\tWhat are the loss functions used in a collaborative model fitting?\n",
    "9.\tWhat are the optimizers used in a collaborative model fitting?\n",
    "10.\tWhat is an epoch?\n",
    "11.\tWhat is a learning rate?\n",
    "12.\tWhat is 1-cycle-policy?\n",
    "13.\tWhat is a neural network?\n",
    "14.\tWhat is Deep Learning? \n",
    "15.\tWhat are some applications of Deep Learning?"
   ]
  }
 ],
 "metadata": {
  "colab": {
   "provenance": []
  },
  "kernelspec": {
   "display_name": "Python 3 (ipykernel)",
   "language": "python",
   "name": "python3"
  },
  "language_info": {
   "codemirror_mode": {
    "name": "ipython",
    "version": 3
   },
   "file_extension": ".py",
   "mimetype": "text/x-python",
   "name": "python",
   "nbconvert_exporter": "python",
   "pygments_lexer": "ipython3",
   "version": "3.9.6"
  }
 },
 "nbformat": 4,
 "nbformat_minor": 0
}